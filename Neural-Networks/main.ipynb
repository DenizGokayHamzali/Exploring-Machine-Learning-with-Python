{
  "nbformat": 4,
  "nbformat_minor": 0,
  "metadata": {
    "colab": {
      "provenance": [],
      "include_colab_link": true
    },
    "kernelspec": {
      "name": "python3",
      "display_name": "Python 3"
    },
    "language_info": {
      "name": "python"
    },
    "gpuClass": "standard",
    "accelerator": "GPU"
  },
  "cells": [
    {
      "cell_type": "markdown",
      "metadata": {
        "id": "view-in-github",
        "colab_type": "text"
      },
      "source": [
        "<a href=\"https://colab.research.google.com/github/DenizGokayHamzali/Exploring-Machine-Learning-with-Python/blob/main/Neural-Networks/main.ipynb\" target=\"_parent\"><img src=\"https://colab.research.google.com/assets/colab-badge.svg\" alt=\"Open In Colab\"/></a>"
      ]
    },
    {
      "cell_type": "code",
      "source": [
        "from sklearn.datasets import fetch_openml\n",
        "from sklearn.model_selection import train_test_split\n",
        "\n",
        "# Fetching the MNIST dataset.\n",
        "X, y = fetch_openml(\"mnist_784\", \n",
        "                    version=1, \n",
        "                    return_X_y=True, \n",
        "                    as_frame=False, \n",
        "                    parser='auto')\n",
        "# Normalizing the data from [0,255] to [0,1] by dividing by 255\n",
        "X = X / 255.0\n",
        "\n",
        "X_train, X_test, y_train, y_test = train_test_split(X, y, \n",
        "                                                    random_state=0, \n",
        "                                                    test_size=0.3)"
      ],
      "metadata": {
        "id": "Vr_cUX-xr7Bj"
      },
      "execution_count": 2,
      "outputs": []
    },
    {
      "cell_type": "code",
      "source": [
        "import pandas as pd \n",
        "\n",
        "# Creating a Pandas DataFrame to store the data and the labels.\n",
        "data = pd.DataFrame(X)\n",
        "data.insert(784, \"label\", y)\n",
        "\n",
        "data.head()"
      ],
      "metadata": {
        "colab": {
          "base_uri": "https://localhost:8080/",
          "height": 236
        },
        "id": "CDnYvZS8r76S",
        "outputId": "833b381d-8fe2-4b5c-a6f5-7efc0b7557a6"
      },
      "execution_count": 3,
      "outputs": [
        {
          "output_type": "execute_result",
          "data": {
            "text/plain": [
              "     0    1    2    3    4    5    6    7    8    9  ...  775  776  777  778  \\\n",
              "0  0.0  0.0  0.0  0.0  0.0  0.0  0.0  0.0  0.0  0.0  ...  0.0  0.0  0.0  0.0   \n",
              "1  0.0  0.0  0.0  0.0  0.0  0.0  0.0  0.0  0.0  0.0  ...  0.0  0.0  0.0  0.0   \n",
              "2  0.0  0.0  0.0  0.0  0.0  0.0  0.0  0.0  0.0  0.0  ...  0.0  0.0  0.0  0.0   \n",
              "3  0.0  0.0  0.0  0.0  0.0  0.0  0.0  0.0  0.0  0.0  ...  0.0  0.0  0.0  0.0   \n",
              "4  0.0  0.0  0.0  0.0  0.0  0.0  0.0  0.0  0.0  0.0  ...  0.0  0.0  0.0  0.0   \n",
              "\n",
              "   779  780  781  782  783  label  \n",
              "0  0.0  0.0  0.0  0.0  0.0      5  \n",
              "1  0.0  0.0  0.0  0.0  0.0      0  \n",
              "2  0.0  0.0  0.0  0.0  0.0      4  \n",
              "3  0.0  0.0  0.0  0.0  0.0      1  \n",
              "4  0.0  0.0  0.0  0.0  0.0      9  \n",
              "\n",
              "[5 rows x 785 columns]"
            ],
            "text/html": [
              "\n",
              "  <div id=\"df-e16fd48f-b3d9-4da8-a7df-d08b23c62f59\">\n",
              "    <div class=\"colab-df-container\">\n",
              "      <div>\n",
              "<style scoped>\n",
              "    .dataframe tbody tr th:only-of-type {\n",
              "        vertical-align: middle;\n",
              "    }\n",
              "\n",
              "    .dataframe tbody tr th {\n",
              "        vertical-align: top;\n",
              "    }\n",
              "\n",
              "    .dataframe thead th {\n",
              "        text-align: right;\n",
              "    }\n",
              "</style>\n",
              "<table border=\"1\" class=\"dataframe\">\n",
              "  <thead>\n",
              "    <tr style=\"text-align: right;\">\n",
              "      <th></th>\n",
              "      <th>0</th>\n",
              "      <th>1</th>\n",
              "      <th>2</th>\n",
              "      <th>3</th>\n",
              "      <th>4</th>\n",
              "      <th>5</th>\n",
              "      <th>6</th>\n",
              "      <th>7</th>\n",
              "      <th>8</th>\n",
              "      <th>9</th>\n",
              "      <th>...</th>\n",
              "      <th>775</th>\n",
              "      <th>776</th>\n",
              "      <th>777</th>\n",
              "      <th>778</th>\n",
              "      <th>779</th>\n",
              "      <th>780</th>\n",
              "      <th>781</th>\n",
              "      <th>782</th>\n",
              "      <th>783</th>\n",
              "      <th>label</th>\n",
              "    </tr>\n",
              "  </thead>\n",
              "  <tbody>\n",
              "    <tr>\n",
              "      <th>0</th>\n",
              "      <td>0.0</td>\n",
              "      <td>0.0</td>\n",
              "      <td>0.0</td>\n",
              "      <td>0.0</td>\n",
              "      <td>0.0</td>\n",
              "      <td>0.0</td>\n",
              "      <td>0.0</td>\n",
              "      <td>0.0</td>\n",
              "      <td>0.0</td>\n",
              "      <td>0.0</td>\n",
              "      <td>...</td>\n",
              "      <td>0.0</td>\n",
              "      <td>0.0</td>\n",
              "      <td>0.0</td>\n",
              "      <td>0.0</td>\n",
              "      <td>0.0</td>\n",
              "      <td>0.0</td>\n",
              "      <td>0.0</td>\n",
              "      <td>0.0</td>\n",
              "      <td>0.0</td>\n",
              "      <td>5</td>\n",
              "    </tr>\n",
              "    <tr>\n",
              "      <th>1</th>\n",
              "      <td>0.0</td>\n",
              "      <td>0.0</td>\n",
              "      <td>0.0</td>\n",
              "      <td>0.0</td>\n",
              "      <td>0.0</td>\n",
              "      <td>0.0</td>\n",
              "      <td>0.0</td>\n",
              "      <td>0.0</td>\n",
              "      <td>0.0</td>\n",
              "      <td>0.0</td>\n",
              "      <td>...</td>\n",
              "      <td>0.0</td>\n",
              "      <td>0.0</td>\n",
              "      <td>0.0</td>\n",
              "      <td>0.0</td>\n",
              "      <td>0.0</td>\n",
              "      <td>0.0</td>\n",
              "      <td>0.0</td>\n",
              "      <td>0.0</td>\n",
              "      <td>0.0</td>\n",
              "      <td>0</td>\n",
              "    </tr>\n",
              "    <tr>\n",
              "      <th>2</th>\n",
              "      <td>0.0</td>\n",
              "      <td>0.0</td>\n",
              "      <td>0.0</td>\n",
              "      <td>0.0</td>\n",
              "      <td>0.0</td>\n",
              "      <td>0.0</td>\n",
              "      <td>0.0</td>\n",
              "      <td>0.0</td>\n",
              "      <td>0.0</td>\n",
              "      <td>0.0</td>\n",
              "      <td>...</td>\n",
              "      <td>0.0</td>\n",
              "      <td>0.0</td>\n",
              "      <td>0.0</td>\n",
              "      <td>0.0</td>\n",
              "      <td>0.0</td>\n",
              "      <td>0.0</td>\n",
              "      <td>0.0</td>\n",
              "      <td>0.0</td>\n",
              "      <td>0.0</td>\n",
              "      <td>4</td>\n",
              "    </tr>\n",
              "    <tr>\n",
              "      <th>3</th>\n",
              "      <td>0.0</td>\n",
              "      <td>0.0</td>\n",
              "      <td>0.0</td>\n",
              "      <td>0.0</td>\n",
              "      <td>0.0</td>\n",
              "      <td>0.0</td>\n",
              "      <td>0.0</td>\n",
              "      <td>0.0</td>\n",
              "      <td>0.0</td>\n",
              "      <td>0.0</td>\n",
              "      <td>...</td>\n",
              "      <td>0.0</td>\n",
              "      <td>0.0</td>\n",
              "      <td>0.0</td>\n",
              "      <td>0.0</td>\n",
              "      <td>0.0</td>\n",
              "      <td>0.0</td>\n",
              "      <td>0.0</td>\n",
              "      <td>0.0</td>\n",
              "      <td>0.0</td>\n",
              "      <td>1</td>\n",
              "    </tr>\n",
              "    <tr>\n",
              "      <th>4</th>\n",
              "      <td>0.0</td>\n",
              "      <td>0.0</td>\n",
              "      <td>0.0</td>\n",
              "      <td>0.0</td>\n",
              "      <td>0.0</td>\n",
              "      <td>0.0</td>\n",
              "      <td>0.0</td>\n",
              "      <td>0.0</td>\n",
              "      <td>0.0</td>\n",
              "      <td>0.0</td>\n",
              "      <td>...</td>\n",
              "      <td>0.0</td>\n",
              "      <td>0.0</td>\n",
              "      <td>0.0</td>\n",
              "      <td>0.0</td>\n",
              "      <td>0.0</td>\n",
              "      <td>0.0</td>\n",
              "      <td>0.0</td>\n",
              "      <td>0.0</td>\n",
              "      <td>0.0</td>\n",
              "      <td>9</td>\n",
              "    </tr>\n",
              "  </tbody>\n",
              "</table>\n",
              "<p>5 rows × 785 columns</p>\n",
              "</div>\n",
              "      <button class=\"colab-df-convert\" onclick=\"convertToInteractive('df-e16fd48f-b3d9-4da8-a7df-d08b23c62f59')\"\n",
              "              title=\"Convert this dataframe to an interactive table.\"\n",
              "              style=\"display:none;\">\n",
              "        \n",
              "  <svg xmlns=\"http://www.w3.org/2000/svg\" height=\"24px\"viewBox=\"0 0 24 24\"\n",
              "       width=\"24px\">\n",
              "    <path d=\"M0 0h24v24H0V0z\" fill=\"none\"/>\n",
              "    <path d=\"M18.56 5.44l.94 2.06.94-2.06 2.06-.94-2.06-.94-.94-2.06-.94 2.06-2.06.94zm-11 1L8.5 8.5l.94-2.06 2.06-.94-2.06-.94L8.5 2.5l-.94 2.06-2.06.94zm10 10l.94 2.06.94-2.06 2.06-.94-2.06-.94-.94-2.06-.94 2.06-2.06.94z\"/><path d=\"M17.41 7.96l-1.37-1.37c-.4-.4-.92-.59-1.43-.59-.52 0-1.04.2-1.43.59L10.3 9.45l-7.72 7.72c-.78.78-.78 2.05 0 2.83L4 21.41c.39.39.9.59 1.41.59.51 0 1.02-.2 1.41-.59l7.78-7.78 2.81-2.81c.8-.78.8-2.07 0-2.86zM5.41 20L4 18.59l7.72-7.72 1.47 1.35L5.41 20z\"/>\n",
              "  </svg>\n",
              "      </button>\n",
              "      \n",
              "  <style>\n",
              "    .colab-df-container {\n",
              "      display:flex;\n",
              "      flex-wrap:wrap;\n",
              "      gap: 12px;\n",
              "    }\n",
              "\n",
              "    .colab-df-convert {\n",
              "      background-color: #E8F0FE;\n",
              "      border: none;\n",
              "      border-radius: 50%;\n",
              "      cursor: pointer;\n",
              "      display: none;\n",
              "      fill: #1967D2;\n",
              "      height: 32px;\n",
              "      padding: 0 0 0 0;\n",
              "      width: 32px;\n",
              "    }\n",
              "\n",
              "    .colab-df-convert:hover {\n",
              "      background-color: #E2EBFA;\n",
              "      box-shadow: 0px 1px 2px rgba(60, 64, 67, 0.3), 0px 1px 3px 1px rgba(60, 64, 67, 0.15);\n",
              "      fill: #174EA6;\n",
              "    }\n",
              "\n",
              "    [theme=dark] .colab-df-convert {\n",
              "      background-color: #3B4455;\n",
              "      fill: #D2E3FC;\n",
              "    }\n",
              "\n",
              "    [theme=dark] .colab-df-convert:hover {\n",
              "      background-color: #434B5C;\n",
              "      box-shadow: 0px 1px 3px 1px rgba(0, 0, 0, 0.15);\n",
              "      filter: drop-shadow(0px 1px 2px rgba(0, 0, 0, 0.3));\n",
              "      fill: #FFFFFF;\n",
              "    }\n",
              "  </style>\n",
              "\n",
              "      <script>\n",
              "        const buttonEl =\n",
              "          document.querySelector('#df-e16fd48f-b3d9-4da8-a7df-d08b23c62f59 button.colab-df-convert');\n",
              "        buttonEl.style.display =\n",
              "          google.colab.kernel.accessAllowed ? 'block' : 'none';\n",
              "\n",
              "        async function convertToInteractive(key) {\n",
              "          const element = document.querySelector('#df-e16fd48f-b3d9-4da8-a7df-d08b23c62f59');\n",
              "          const dataTable =\n",
              "            await google.colab.kernel.invokeFunction('convertToInteractive',\n",
              "                                                     [key], {});\n",
              "          if (!dataTable) return;\n",
              "\n",
              "          const docLinkHtml = 'Like what you see? Visit the ' +\n",
              "            '<a target=\"_blank\" href=https://colab.research.google.com/notebooks/data_table.ipynb>data table notebook</a>'\n",
              "            + ' to learn more about interactive tables.';\n",
              "          element.innerHTML = '';\n",
              "          dataTable['output_type'] = 'display_data';\n",
              "          await google.colab.output.renderOutput(dataTable, element);\n",
              "          const docLink = document.createElement('div');\n",
              "          docLink.innerHTML = docLinkHtml;\n",
              "          element.appendChild(docLink);\n",
              "        }\n",
              "      </script>\n",
              "    </div>\n",
              "  </div>\n",
              "  "
            ]
          },
          "metadata": {},
          "execution_count": 3
        }
      ]
    },
    {
      "cell_type": "code",
      "source": [
        "X_train[2]"
      ],
      "metadata": {
        "colab": {
          "base_uri": "https://localhost:8080/"
        },
        "id": "wmvHg07er9CV",
        "outputId": "e91a2a48-d35e-4698-bdcc-f640ff577142"
      },
      "execution_count": 4,
      "outputs": [
        {
          "output_type": "execute_result",
          "data": {
            "text/plain": [
              "array([0.        , 0.        , 0.        , 0.        , 0.        ,\n",
              "       0.        , 0.        , 0.        , 0.        , 0.        ,\n",
              "       0.        , 0.        , 0.        , 0.        , 0.        ,\n",
              "       0.        , 0.        , 0.        , 0.        , 0.        ,\n",
              "       0.        , 0.        , 0.        , 0.        , 0.        ,\n",
              "       0.        , 0.        , 0.        , 0.        , 0.        ,\n",
              "       0.        , 0.        , 0.        , 0.        , 0.        ,\n",
              "       0.        , 0.        , 0.        , 0.        , 0.        ,\n",
              "       0.        , 0.        , 0.        , 0.        , 0.        ,\n",
              "       0.        , 0.        , 0.        , 0.        , 0.        ,\n",
              "       0.        , 0.        , 0.        , 0.        , 0.        ,\n",
              "       0.        , 0.        , 0.        , 0.        , 0.        ,\n",
              "       0.        , 0.        , 0.        , 0.        , 0.        ,\n",
              "       0.        , 0.        , 0.        , 0.        , 0.        ,\n",
              "       0.        , 0.        , 0.        , 0.        , 0.        ,\n",
              "       0.        , 0.        , 0.        , 0.        , 0.        ,\n",
              "       0.        , 0.        , 0.        , 0.        , 0.        ,\n",
              "       0.        , 0.        , 0.        , 0.        , 0.        ,\n",
              "       0.        , 0.        , 0.        , 0.        , 0.        ,\n",
              "       0.        , 0.        , 0.        , 0.        , 0.        ,\n",
              "       0.        , 0.        , 0.        , 0.        , 0.        ,\n",
              "       0.        , 0.        , 0.        , 0.        , 0.        ,\n",
              "       0.        , 0.        , 0.        , 0.        , 0.        ,\n",
              "       0.        , 0.        , 0.        , 0.        , 0.        ,\n",
              "       0.        , 0.        , 0.        , 0.        , 0.        ,\n",
              "       0.20784314, 0.28627451, 0.69019608, 0.99215686, 0.99215686,\n",
              "       0.99215686, 0.28627451, 0.12156863, 0.        , 0.        ,\n",
              "       0.        , 0.        , 0.        , 0.        , 0.        ,\n",
              "       0.        , 0.        , 0.        , 0.        , 0.        ,\n",
              "       0.        , 0.        , 0.        , 0.        , 0.        ,\n",
              "       0.        , 0.        , 0.24705882, 0.86666667, 0.99215686,\n",
              "       0.98431373, 0.98431373, 0.98431373, 0.98431373, 0.99215686,\n",
              "       0.74117647, 0.07843137, 0.        , 0.        , 0.        ,\n",
              "       0.        , 0.        , 0.        , 0.        , 0.        ,\n",
              "       0.        , 0.        , 0.        , 0.        , 0.        ,\n",
              "       0.        , 0.        , 0.        , 0.        , 0.22745098,\n",
              "       0.90588235, 0.98431373, 0.99215686, 0.98431373, 0.98431373,\n",
              "       0.98431373, 0.98431373, 0.99215686, 0.98431373, 0.86666667,\n",
              "       0.48627451, 0.        , 0.        , 0.        , 0.        ,\n",
              "       0.        , 0.        , 0.        , 0.        , 0.        ,\n",
              "       0.        , 0.        , 0.        , 0.        , 0.        ,\n",
              "       0.        , 0.24705882, 0.90588235, 0.98431373, 0.98431373,\n",
              "       0.99215686, 0.98431373, 0.61568627, 0.55686275, 0.55686275,\n",
              "       0.99215686, 0.98431373, 0.98431373, 0.74117647, 0.12156863,\n",
              "       0.        , 0.        , 0.        , 0.        , 0.        ,\n",
              "       0.        , 0.        , 0.        , 0.        , 0.        ,\n",
              "       0.        , 0.        , 0.        , 0.20784314, 0.86666667,\n",
              "       0.98431373, 0.98431373, 0.98431373, 0.78823529, 0.27843137,\n",
              "       0.03921569, 0.        , 0.        , 0.48627451, 0.98431373,\n",
              "       0.98431373, 0.98431373, 0.27843137, 0.        , 0.        ,\n",
              "       0.        , 0.        , 0.        , 0.        , 0.        ,\n",
              "       0.        , 0.        , 0.        , 0.        , 0.1254902 ,\n",
              "       0.28627451, 1.        , 0.99215686, 0.99215686, 0.99215686,\n",
              "       0.78823529, 0.        , 0.        , 0.        , 0.        ,\n",
              "       0.        , 0.        , 0.56862745, 0.99215686, 0.99215686,\n",
              "       0.99215686, 0.        , 0.        , 0.        , 0.        ,\n",
              "       0.        , 0.        , 0.        , 0.        , 0.        ,\n",
              "       0.        , 0.        , 0.42745098, 0.98431373, 0.99215686,\n",
              "       0.98431373, 0.98431373, 0.7372549 , 0.11764706, 0.        ,\n",
              "       0.        , 0.        , 0.        , 0.        , 0.        ,\n",
              "       0.56470588, 0.98431373, 0.98431373, 0.98431373, 0.        ,\n",
              "       0.        , 0.        , 0.        , 0.        , 0.        ,\n",
              "       0.        , 0.        , 0.        , 0.        , 0.22745098,\n",
              "       0.90588235, 0.98431373, 0.99215686, 0.98431373, 0.76078431,\n",
              "       0.07843137, 0.        , 0.        , 0.        , 0.        ,\n",
              "       0.        , 0.        , 0.        , 0.56470588, 0.98431373,\n",
              "       0.98431373, 0.98431373, 0.        , 0.        , 0.        ,\n",
              "       0.        , 0.        , 0.        , 0.        , 0.        ,\n",
              "       0.        , 0.24705882, 0.90588235, 0.98431373, 0.98431373,\n",
              "       0.99215686, 0.98431373, 0.1372549 , 0.        , 0.        ,\n",
              "       0.        , 0.        , 0.        , 0.        , 0.        ,\n",
              "       0.        , 0.56470588, 0.98431373, 0.98431373, 0.98431373,\n",
              "       0.        , 0.        , 0.        , 0.        , 0.        ,\n",
              "       0.        , 0.        , 0.        , 0.        , 0.56470588,\n",
              "       0.98431373, 0.98431373, 0.98431373, 0.78823529, 0.27843137,\n",
              "       0.03921569, 0.        , 0.        , 0.        , 0.        ,\n",
              "       0.        , 0.        , 0.        , 0.20784314, 0.86666667,\n",
              "       0.98431373, 0.98431373, 0.47843137, 0.        , 0.        ,\n",
              "       0.        , 0.        , 0.        , 0.        , 0.        ,\n",
              "       0.        , 0.08235294, 0.69019608, 0.99215686, 0.99215686,\n",
              "       0.99215686, 0.50980392, 0.        , 0.        , 0.        ,\n",
              "       0.        , 0.        , 0.        , 0.        , 0.        ,\n",
              "       0.        , 0.49019608, 0.99215686, 0.99215686, 0.86666667,\n",
              "       0.2       , 0.        , 0.        , 0.        , 0.        ,\n",
              "       0.        , 0.        , 0.        , 0.        , 0.28627451,\n",
              "       0.98431373, 0.98431373, 0.98431373, 0.57647059, 0.        ,\n",
              "       0.        , 0.        , 0.        , 0.        , 0.        ,\n",
              "       0.        , 0.        , 0.        , 0.41176471, 0.99215686,\n",
              "       0.98431373, 0.98431373, 0.55686275, 0.        , 0.        ,\n",
              "       0.        , 0.        , 0.        , 0.        , 0.        ,\n",
              "       0.        , 0.        , 0.38823529, 0.98431373, 0.98431373,\n",
              "       0.92156863, 0.23921569, 0.        , 0.        , 0.        ,\n",
              "       0.        , 0.        , 0.        , 0.        , 0.02352941,\n",
              "       0.45098039, 0.94509804, 0.99215686, 0.98431373, 0.96470588,\n",
              "       0.48235294, 0.        , 0.        , 0.        , 0.        ,\n",
              "       0.        , 0.        , 0.        , 0.        , 0.        ,\n",
              "       0.99215686, 0.98431373, 0.98431373, 0.55686275, 0.        ,\n",
              "       0.        , 0.        , 0.        , 0.        , 0.        ,\n",
              "       0.        , 0.        , 0.45098039, 0.98431373, 0.98431373,\n",
              "       0.99215686, 0.98431373, 0.5372549 , 0.        , 0.        ,\n",
              "       0.        , 0.        , 0.        , 0.        , 0.        ,\n",
              "       0.        , 0.        , 0.        , 0.99215686, 0.98431373,\n",
              "       0.98431373, 0.55686275, 0.        , 0.        , 0.        ,\n",
              "       0.        , 0.        , 0.        , 0.71372549, 0.70588235,\n",
              "       0.94509804, 0.98431373, 0.98431373, 0.99215686, 0.57647059,\n",
              "       0.03921569, 0.        , 0.        , 0.        , 0.        ,\n",
              "       0.        , 0.        , 0.        , 0.        , 0.        ,\n",
              "       0.        , 0.28627451, 0.99215686, 0.99215686, 0.68627451,\n",
              "       0.28627451, 0.        , 0.        , 0.04313725, 0.28627451,\n",
              "       0.79215686, 1.        , 0.99215686, 0.99215686, 0.99215686,\n",
              "       0.99215686, 0.50980392, 0.        , 0.        , 0.        ,\n",
              "       0.        , 0.        , 0.        , 0.        , 0.        ,\n",
              "       0.        , 0.        , 0.        , 0.        , 0.28627451,\n",
              "       0.98431373, 0.98431373, 0.98431373, 0.98431373, 0.56862745,\n",
              "       0.56470588, 0.62745098, 0.98431373, 0.98431373, 0.99215686,\n",
              "       0.98431373, 0.98431373, 0.98431373, 0.57647059, 0.        ,\n",
              "       0.        , 0.        , 0.        , 0.        , 0.        ,\n",
              "       0.        , 0.        , 0.        , 0.        , 0.        ,\n",
              "       0.        , 0.        , 0.03921569, 0.62352941, 0.98431373,\n",
              "       0.98431373, 0.98431373, 0.99215686, 0.98431373, 0.98431373,\n",
              "       0.98431373, 0.98431373, 0.99215686, 0.98431373, 0.8627451 ,\n",
              "       0.5372549 , 0.03921569, 0.        , 0.        , 0.        ,\n",
              "       0.        , 0.        , 0.        , 0.        , 0.        ,\n",
              "       0.        , 0.        , 0.        , 0.        , 0.        ,\n",
              "       0.        , 0.3254902 , 0.9254902 , 0.98431373, 0.98431373,\n",
              "       0.99215686, 0.98431373, 0.98431373, 0.98431373, 0.98431373,\n",
              "       0.56078431, 0.55686275, 0.07843137, 0.        , 0.        ,\n",
              "       0.        , 0.        , 0.        , 0.        , 0.        ,\n",
              "       0.        , 0.        , 0.        , 0.        , 0.        ,\n",
              "       0.        , 0.        , 0.        , 0.        , 0.        ,\n",
              "       0.23921569, 0.58039216, 0.98431373, 0.99215686, 0.98431373,\n",
              "       0.98431373, 0.67843137, 0.27843137, 0.        , 0.        ,\n",
              "       0.        , 0.        , 0.        , 0.        , 0.        ,\n",
              "       0.        , 0.        , 0.        , 0.        , 0.        ,\n",
              "       0.        , 0.        , 0.        , 0.        , 0.        ,\n",
              "       0.        , 0.        , 0.        , 0.        , 0.        ,\n",
              "       0.        , 0.        , 0.        , 0.        , 0.        ,\n",
              "       0.        , 0.        , 0.        , 0.        , 0.        ,\n",
              "       0.        , 0.        , 0.        , 0.        , 0.        ,\n",
              "       0.        , 0.        , 0.        , 0.        , 0.        ,\n",
              "       0.        , 0.        , 0.        , 0.        , 0.        ,\n",
              "       0.        , 0.        , 0.        , 0.        , 0.        ,\n",
              "       0.        , 0.        , 0.        , 0.        , 0.        ,\n",
              "       0.        , 0.        , 0.        , 0.        , 0.        ,\n",
              "       0.        , 0.        , 0.        , 0.        , 0.        ,\n",
              "       0.        , 0.        , 0.        , 0.        , 0.        ,\n",
              "       0.        , 0.        , 0.        , 0.        , 0.        ,\n",
              "       0.        , 0.        , 0.        , 0.        , 0.        ,\n",
              "       0.        , 0.        , 0.        , 0.        , 0.        ,\n",
              "       0.        , 0.        , 0.        , 0.        , 0.        ,\n",
              "       0.        , 0.        , 0.        , 0.        , 0.        ,\n",
              "       0.        , 0.        , 0.        , 0.        , 0.        ,\n",
              "       0.        , 0.        , 0.        , 0.        , 0.        ,\n",
              "       0.        , 0.        , 0.        , 0.        , 0.        ,\n",
              "       0.        , 0.        , 0.        , 0.        , 0.        ,\n",
              "       0.        , 0.        , 0.        , 0.        , 0.        ,\n",
              "       0.        , 0.        , 0.        , 0.        ])"
            ]
          },
          "metadata": {},
          "execution_count": 4
        }
      ]
    },
    {
      "cell_type": "code",
      "source": [
        "import matplotlib.pyplot as plt\n",
        "for i in range(5):\n",
        "    plt.imshow(X[i].reshape((28,28)), cmap='gray')\n",
        "    plt.show()"
      ],
      "metadata": {
        "colab": {
          "base_uri": "https://localhost:8080/",
          "height": 1000
        },
        "id": "TedldCgUr-Ni",
        "outputId": "98790cf6-f012-4b09-c65a-cadfff30c12c"
      },
      "execution_count": 5,
      "outputs": [
        {
          "output_type": "display_data",
          "data": {
            "text/plain": [
              "<Figure size 432x288 with 1 Axes>"
            ],
            "image/png": "[encoded data removed]"
          },
          "metadata": {
            "needs_background": "light"
          }
        },
        {
          "output_type": "display_data",
          "data": {
            "text/plain": [
              "<Figure size 432x288 with 1 Axes>"
            ],
            "image/png": "[encoded data removed]"
          },
          "metadata": {
            "needs_background": "light"
          }
        },
        {
          "output_type": "display_data",
          "data": {
            "text/plain": [
              "<Figure size 432x288 with 1 Axes>"
            ],
            "image/png": "[encoded data removed]"
          },
          "metadata": {
            "needs_background": "light"
          }
        },
        {
          "output_type": "display_data",
          "data": {
            "text/plain": [
              "<Figure size 432x288 with 1 Axes>"
            ],
            "image/png": "[encoded data removed]"
          },
          "metadata": {
            "needs_background": "light"
          }
        },
        {
          "output_type": "display_data",
          "data": {
            "text/plain": [
              "<Figure size 432x288 with 1 Axes>"
            ],
            "image/png": "[encoded data removed]"
          },
          "metadata": {
            "needs_background": "light"
          }
        }
      ]
    },
    {
      "cell_type": "code",
      "source": [
        "from sklearn.neural_network import MLPClassifier\n",
        "\n",
        "# Creating 4 MLPClassifier model with different numbers of hidden layers.\n",
        "mlp = MLPClassifier(hidden_layer_sizes=1,\n",
        "                    activation = \"logistic\",\n",
        "                    max_iter=1000,\n",
        "                    alpha=0.001)\n",
        "\n",
        "mlp1 = MLPClassifier(hidden_layer_sizes=10,\n",
        "                     activation = \"logistic\",\n",
        "                     max_iter=1000,\n",
        "                     alpha=0.001)\n",
        "\n",
        "mlp2 = MLPClassifier(hidden_layer_sizes=100,\n",
        "                     activation = \"logistic\",\n",
        "                     max_iter=1000,\n",
        "                     alpha=0.001)\n",
        "\n",
        "mlp3 = MLPClassifier(hidden_layer_sizes=1000,\n",
        "                     activation = \"logistic\",\n",
        "                     max_iter=1000,\n",
        "                     alpha=0.001)"
      ],
      "metadata": {
        "id": "gedsvfRvr_lI"
      },
      "execution_count": 6,
      "outputs": []
    },
    {
      "cell_type": "code",
      "source": [
        "mlp.fit(X_train, y_train)\n",
        "mlp1.fit(X_train, y_train)\n",
        "mlp2.fit(X_train, y_train)\n",
        "mlp3.fit(X_train, y_train)"
      ],
      "metadata": {
        "colab": {
          "base_uri": "https://localhost:8080/",
          "height": 92
        },
        "id": "MtgUVHnQsAl2",
        "outputId": "687b755a-7281-4ccc-8b7a-605d0d1a0750"
      },
      "execution_count": 7,
      "outputs": [
        {
          "output_type": "execute_result",
          "data": {
            "text/plain": [
              "MLPClassifier(activation='logistic', alpha=0.001, hidden_layer_sizes=1000,\n",
              "              max_iter=1000)"
            ],
            "text/html": [
              "<style>#sk-container-id-1 {color: black;background-color: white;}#sk-container-id-1 pre{padding: 0;}#sk-container-id-1 div.sk-toggleable {background-color: white;}#sk-container-id-1 label.sk-toggleable__label {cursor: pointer;display: block;width: 100%;margin-bottom: 0;padding: 0.3em;box-sizing: border-box;text-align: center;}#sk-container-id-1 label.sk-toggleable__label-arrow:before {content: \"▸\";float: left;margin-right: 0.25em;color: #696969;}#sk-container-id-1 label.sk-toggleable__label-arrow:hover:before {color: black;}#sk-container-id-1 div.sk-estimator:hover label.sk-toggleable__label-arrow:before {color: black;}#sk-container-id-1 div.sk-toggleable__content {max-height: 0;max-width: 0;overflow: hidden;text-align: left;background-color: #f0f8ff;}#sk-container-id-1 div.sk-toggleable__content pre {margin: 0.2em;color: black;border-radius: 0.25em;background-color: #f0f8ff;}#sk-container-id-1 input.sk-toggleable__control:checked~div.sk-toggleable__content {max-height: 200px;max-width: 100%;overflow: auto;}#sk-container-id-1 input.sk-toggleable__control:checked~label.sk-toggleable__label-arrow:before {content: \"▾\";}#sk-container-id-1 div.sk-estimator input.sk-toggleable__control:checked~label.sk-toggleable__label {background-color: #d4ebff;}#sk-container-id-1 div.sk-label input.sk-toggleable__control:checked~label.sk-toggleable__label {background-color: #d4ebff;}#sk-container-id-1 input.sk-hidden--visually {border: 0;clip: rect(1px 1px 1px 1px);clip: rect(1px, 1px, 1px, 1px);height: 1px;margin: -1px;overflow: hidden;padding: 0;position: absolute;width: 1px;}#sk-container-id-1 div.sk-estimator {font-family: monospace;background-color: #f0f8ff;border: 1px dotted black;border-radius: 0.25em;box-sizing: border-box;margin-bottom: 0.5em;}#sk-container-id-1 div.sk-estimator:hover {background-color: #d4ebff;}#sk-container-id-1 div.sk-parallel-item::after {content: \"\";width: 100%;border-bottom: 1px solid gray;flex-grow: 1;}#sk-container-id-1 div.sk-label:hover label.sk-toggleable__label {background-color: #d4ebff;}#sk-container-id-1 div.sk-serial::before {content: \"\";position: absolute;border-left: 1px solid gray;box-sizing: border-box;top: 0;bottom: 0;left: 50%;z-index: 0;}#sk-container-id-1 div.sk-serial {display: flex;flex-direction: column;align-items: center;background-color: white;padding-right: 0.2em;padding-left: 0.2em;position: relative;}#sk-container-id-1 div.sk-item {position: relative;z-index: 1;}#sk-container-id-1 div.sk-parallel {display: flex;align-items: stretch;justify-content: center;background-color: white;position: relative;}#sk-container-id-1 div.sk-item::before, #sk-container-id-1 div.sk-parallel-item::before {content: \"\";position: absolute;border-left: 1px solid gray;box-sizing: border-box;top: 0;bottom: 0;left: 50%;z-index: -1;}#sk-container-id-1 div.sk-parallel-item {display: flex;flex-direction: column;z-index: 1;position: relative;background-color: white;}#sk-container-id-1 div.sk-parallel-item:first-child::after {align-self: flex-end;width: 50%;}#sk-container-id-1 div.sk-parallel-item:last-child::after {align-self: flex-start;width: 50%;}#sk-container-id-1 div.sk-parallel-item:only-child::after {width: 0;}#sk-container-id-1 div.sk-dashed-wrapped {border: 1px dashed gray;margin: 0 0.4em 0.5em 0.4em;box-sizing: border-box;padding-bottom: 0.4em;background-color: white;}#sk-container-id-1 div.sk-label label {font-family: monospace;font-weight: bold;display: inline-block;line-height: 1.2em;}#sk-container-id-1 div.sk-label-container {text-align: center;}#sk-container-id-1 div.sk-container {/* jupyter's `normalize.less` sets `[hidden] { display: none; }` but bootstrap.min.css set `[hidden] { display: none !important; }` so we also need the `!important` here to be able to override the default hidden behavior on the sphinx rendered scikit-learn.org. See: https://github.com/scikit-learn/scikit-learn/issues/21755 */display: inline-block !important;position: relative;}#sk-container-id-1 div.sk-text-repr-fallback {display: none;}</style><div id=\"sk-container-id-1\" class=\"sk-top-container\"><div class=\"sk-text-repr-fallback\"><pre>MLPClassifier(activation=&#x27;logistic&#x27;, alpha=0.001, hidden_layer_sizes=1000,\n",
              "              max_iter=1000)</pre><b>In a Jupyter environment, please rerun this cell to show the HTML representation or trust the notebook. <br />On GitHub, the HTML representation is unable to render, please try loading this page with nbviewer.org.</b></div><div class=\"sk-container\" hidden><div class=\"sk-item\"><div class=\"sk-estimator sk-toggleable\"><input class=\"sk-toggleable__control sk-hidden--visually\" id=\"sk-estimator-id-1\" type=\"checkbox\" checked><label for=\"sk-estimator-id-1\" class=\"sk-toggleable__label sk-toggleable__label-arrow\">MLPClassifier</label><div class=\"sk-toggleable__content\"><pre>MLPClassifier(activation=&#x27;logistic&#x27;, alpha=0.001, hidden_layer_sizes=1000,\n",
              "              max_iter=1000)</pre></div></div></div></div></div>"
            ]
          },
          "metadata": {},
          "execution_count": 7
        }
      ]
    },
    {
      "cell_type": "code",
      "source": [
        "# Making predictions on the test data using each model.\n",
        "predictions_NN = mlp.predict(X_test)\n",
        "predictions_NN"
      ],
      "metadata": {
        "colab": {
          "base_uri": "https://localhost:8080/"
        },
        "id": "SuoreQxbsBmn",
        "outputId": "f9035f49-ccac-457c-d4a4-1e07cd049282"
      },
      "execution_count": 8,
      "outputs": [
        {
          "output_type": "execute_result",
          "data": {
            "text/plain": [
              "array(['4', '4', '1', ..., '9', '0', '3'], dtype='<U1')"
            ]
          },
          "metadata": {},
          "execution_count": 8
        }
      ]
    },
    {
      "cell_type": "code",
      "source": [
        "predictions_NN1 = mlp1.predict(X_test)\n",
        "predictions_NN1"
      ],
      "metadata": {
        "colab": {
          "base_uri": "https://localhost:8080/"
        },
        "id": "Qr3oUMiasDTg",
        "outputId": "5985c25e-e368-4288-e4df-235c18cb3c06"
      },
      "execution_count": 9,
      "outputs": [
        {
          "output_type": "execute_result",
          "data": {
            "text/plain": [
              "array(['0', '4', '1', ..., '9', '0', '1'], dtype='<U1')"
            ]
          },
          "metadata": {},
          "execution_count": 9
        }
      ]
    },
    {
      "cell_type": "code",
      "source": [
        "predictions_NN2 = mlp2.predict(X_test)\n",
        "predictions_NN2"
      ],
      "metadata": {
        "colab": {
          "base_uri": "https://localhost:8080/"
        },
        "id": "oQGLx8f3sEiY",
        "outputId": "ecd8307c-2fec-4b3d-fac6-c9e6377cc009"
      },
      "execution_count": 10,
      "outputs": [
        {
          "output_type": "execute_result",
          "data": {
            "text/plain": [
              "array(['0', '4', '1', ..., '9', '0', '1'], dtype='<U1')"
            ]
          },
          "metadata": {},
          "execution_count": 10
        }
      ]
    },
    {
      "cell_type": "code",
      "source": [
        "predictions_NN3 = mlp3.predict(X_test)\n",
        "predictions_NN3"
      ],
      "metadata": {
        "colab": {
          "base_uri": "https://localhost:8080/"
        },
        "id": "0IsSkqqvsFh_",
        "outputId": "9a8c05ea-0040-477f-84b5-90818b5e47b5"
      },
      "execution_count": 11,
      "outputs": [
        {
          "output_type": "execute_result",
          "data": {
            "text/plain": [
              "array(['0', '4', '1', ..., '9', '0', '1'], dtype='<U1')"
            ]
          },
          "metadata": {},
          "execution_count": 11
        }
      ]
    },
    {
      "cell_type": "code",
      "source": [
        "# Displaying the actual and predicted values for the first test example.\n",
        "print(f\"Actual Value: {y_test[0]}\")\n",
        "print(f\"Predicted Value For 1 Hidden Layer: {predictions_NN[0]}\")\n",
        "print(f\"Predicted Value For 10 Hidden Layer: {predictions_NN1[0]}\")\n",
        "print(f\"Predicted Value For 100 Hidden Layer: {predictions_NN2[0]}\")\n",
        "print(f\"Predicted Value For 1000 Hidden Layer: {predictions_NN3[0]}\")\n",
        "\n",
        "plt.imshow(X_test[0].reshape((28,28)), cmap='gray')\n",
        "plt.show()"
      ],
      "metadata": {
        "colab": {
          "base_uri": "https://localhost:8080/",
          "height": 352
        },
        "id": "Jq3b1CrusGcw",
        "outputId": "4db95f5f-66c2-428f-f0ad-794118f79fcb"
      },
      "execution_count": 12,
      "outputs": [
        {
          "output_type": "stream",
          "name": "stdout",
          "text": [
            "Actual Value: 0\n",
            "Predicted Value For 1 Hidden Layer: 4\n",
            "Predicted Value For 10 Hidden Layer: 0\n",
            "Predicted Value For 100 Hidden Layer: 0\n",
            "Predicted Value For 1000 Hidden Layer: 0\n"
          ]
        },
        {
          "output_type": "display_data",
          "data": {
            "text/plain": [
              "<Figure size 432x288 with 1 Axes>"
            ],
            "image/png": "[encoded data removed]"
          },
          "metadata": {
            "needs_background": "light"
          }
        }
      ]
    },
    {
      "cell_type": "code",
      "source": [
        "print(f\"Actual Value: {y_test[1]}\")\n",
        "print(f\"Predicted Value For 1 Hidden Layer: {predictions_NN[1]}\")\n",
        "print(f\"Predicted Value For 10 Hidden Layer: {predictions_NN1[1]}\")\n",
        "print(f\"Predicted Value For 100 Hidden Layer: {predictions_NN2[1]}\")\n",
        "print(f\"Predicted Value For 1000 Hidden Layer: {predictions_NN3[1]}\")\n",
        "\n",
        "plt.imshow(X_test[1].reshape((28,28)), cmap='gray')\n",
        "plt.show()"
      ],
      "metadata": {
        "colab": {
          "base_uri": "https://localhost:8080/",
          "height": 352
        },
        "id": "WXDPoic0sHe5",
        "outputId": "7793d877-0aa1-4f25-fa85-c9e5709a74da"
      },
      "execution_count": 13,
      "outputs": [
        {
          "output_type": "stream",
          "name": "stdout",
          "text": [
            "Actual Value: 4\n",
            "Predicted Value For 1 Hidden Layer: 4\n",
            "Predicted Value For 10 Hidden Layer: 4\n",
            "Predicted Value For 100 Hidden Layer: 4\n",
            "Predicted Value For 1000 Hidden Layer: 4\n"
          ]
        },
        {
          "output_type": "display_data",
          "data": {
            "text/plain": [
              "<Figure size 432x288 with 1 Axes>"
            ],
            "image/png": "[encoded data removed]"
          },
          "metadata": {
            "needs_background": "light"
          }
        }
      ]
    },
    {
      "cell_type": "code",
      "source": [
        "# The results are printed to evaluate the performance of each model.\n",
        "from sklearn.metrics import confusion_matrix, classification_report\n",
        "\n",
        "print('*** Confusion Matrix for NN ***\\n')\n",
        "print(confusion_matrix(y_test, predictions_NN))\n",
        "print('\\n\\n ***Classification Report for NN*** \\n')\n",
        "print(classification_report(y_test, predictions_NN, zero_division=1))\n",
        "\n",
        "print('\\n*** Confusion Matrix for NN1 ******\\n')\n",
        "print(confusion_matrix(y_test, predictions_NN1))\n",
        "print('\\n\\n ***Classification Report for NN1 ***\\n')\n",
        "print(classification_report(y_test, predictions_NN1))\n",
        "\n",
        "print('\\n*** Confusion Matrix for NN2 ***\\n')\n",
        "print(confusion_matrix(y_test, predictions_NN2))\n",
        "print('\\n\\n*** Classification Report for NN2 ***\\n')\n",
        "print(classification_report(y_test, predictions_NN2))\n",
        "\n",
        "print('\\n*** Confusion Matrix for NN3 ***\\n')\n",
        "print(confusion_matrix(y_test, predictions_NN3))\n",
        "print('\\n\\n*** Classification Report for NN3 ***\\n')\n",
        "print(classification_report(y_test, predictions_NN3))"
      ],
      "metadata": {
        "colab": {
          "base_uri": "https://localhost:8080/"
        },
        "id": "87cqxw4CsJQu",
        "outputId": "2ae219b1-7093-4718-9be3-eb2933e18fd5"
      },
      "execution_count": 15,
      "outputs": [
        {
          "output_type": "stream",
          "name": "stdout",
          "text": [
            "*** Confusion Matrix for NN ***\n",
            "\n",
            "[[ 576   28  205  130   36    0   67  503  356  176]\n",
            " [  14 2100   28  222    0    0    0    6   13    2]\n",
            " [ 237  556  289  590   15    0   27  101  253   47]\n",
            " [  87  609  305  857    1    0    2   55  192    9]\n",
            " [  22    2    2    3 1202    0  461   84   12  216]\n",
            " [ 515   53  222  165    9    0   20  415  404   97]\n",
            " [  49    2   12   15 1268    0  302  131   30  236]\n",
            " [ 337   37   46   59   56    0  155  946  104  449]\n",
            " [ 419  184  339  364    7    0    9  274  392   54]\n",
            " [  89    2   13   13  130    0  527  397   37  918]]\n",
            "\n",
            "\n",
            " ***Classification Report for NN*** \n",
            "\n",
            "              precision    recall  f1-score   support\n",
            "\n",
            "           0       0.25      0.28      0.26      2077\n",
            "           1       0.59      0.88      0.70      2385\n",
            "           2       0.20      0.14      0.16      2115\n",
            "           3       0.35      0.40      0.38      2117\n",
            "           4       0.44      0.60      0.51      2004\n",
            "           5       1.00      0.00      0.00      1900\n",
            "           6       0.19      0.15      0.17      2045\n",
            "           7       0.32      0.43      0.37      2189\n",
            "           8       0.22      0.19      0.20      2042\n",
            "           9       0.42      0.43      0.42      2126\n",
            "\n",
            "    accuracy                           0.36     21000\n",
            "   macro avg       0.40      0.35      0.32     21000\n",
            "weighted avg       0.40      0.36      0.33     21000\n",
            "\n",
            "\n",
            "*** Confusion Matrix for NN1 ******\n",
            "\n",
            "[[1995    0    6    7    7   16   21    4   15    6]\n",
            " [   0 2322    9   14    2    5    1    5   21    6]\n",
            " [   9   15 1925   30   25    4   15   23   65    4]\n",
            " [   7   12   41 1874    1   79    1   33   46   23]\n",
            " [   7    6   13    3 1854    0   23   21   10   67]\n",
            " [  11   12   13   45   10 1704   21    3   53   28]\n",
            " [  21   13   22    3   21   33 1905    6   20    1]\n",
            " [   8   16   24   17   25    3    0 2031    4   61]\n",
            " [   7   38   19   29    9   35    5    3 1864   33]\n",
            " [   8    5    2   24   49   16    0   47   25 1950]]\n",
            "\n",
            "\n",
            " ***Classification Report for NN1 ***\n",
            "\n",
            "              precision    recall  f1-score   support\n",
            "\n",
            "           0       0.96      0.96      0.96      2077\n",
            "           1       0.95      0.97      0.96      2385\n",
            "           2       0.93      0.91      0.92      2115\n",
            "           3       0.92      0.89      0.90      2117\n",
            "           4       0.93      0.93      0.93      2004\n",
            "           5       0.90      0.90      0.90      1900\n",
            "           6       0.96      0.93      0.94      2045\n",
            "           7       0.93      0.93      0.93      2189\n",
            "           8       0.88      0.91      0.90      2042\n",
            "           9       0.89      0.92      0.91      2126\n",
            "\n",
            "    accuracy                           0.92     21000\n",
            "   macro avg       0.92      0.92      0.92     21000\n",
            "weighted avg       0.93      0.92      0.92     21000\n",
            "\n",
            "\n",
            "*** Confusion Matrix for NN2 ***\n",
            "\n",
            "[[2044    0    4    1    2    6   12    1    6    1]\n",
            " [   0 2357   12    2    3    1    2    6    2    0]\n",
            " [   1    2 2073    4    4    1    2   12   13    3]\n",
            " [   1    6   26 2024    0   31    0   10   15    4]\n",
            " [   0    3    3    1 1955    2   12    5    4   19]\n",
            " [   2    1    3    9    5 1859   11    2    5    3]\n",
            " [   3    2    3    0   14   12 2006    1    4    0]\n",
            " [   2    7   12    2    8    6    0 2140    2   10]\n",
            " [   4   16   10    9    5   13    5    2 1967   11]\n",
            " [   4    0    4   11   33    9    1   16    7 2041]]\n",
            "\n",
            "\n",
            "*** Classification Report for NN2 ***\n",
            "\n",
            "              precision    recall  f1-score   support\n",
            "\n",
            "           0       0.99      0.98      0.99      2077\n",
            "           1       0.98      0.99      0.99      2385\n",
            "           2       0.96      0.98      0.97      2115\n",
            "           3       0.98      0.96      0.97      2117\n",
            "           4       0.96      0.98      0.97      2004\n",
            "           5       0.96      0.98      0.97      1900\n",
            "           6       0.98      0.98      0.98      2045\n",
            "           7       0.97      0.98      0.98      2189\n",
            "           8       0.97      0.96      0.97      2042\n",
            "           9       0.98      0.96      0.97      2126\n",
            "\n",
            "    accuracy                           0.97     21000\n",
            "   macro avg       0.97      0.97      0.97     21000\n",
            "weighted avg       0.97      0.97      0.97     21000\n",
            "\n",
            "\n",
            "*** Confusion Matrix for NN3 ***\n",
            "\n",
            "[[2058    0    3    1    2    3    6    1    3    0]\n",
            " [   1 2362    6    2    2    0    3    5    2    2]\n",
            " [   1    3 2076    8    4    1    1    8   12    1]\n",
            " [   0    1    7 2089    0    5    1    3    9    2]\n",
            " [   1    1    2    1 1977    0    5    3    3   11]\n",
            " [   4    0    4   25    7 1822   15    1   16    6]\n",
            " [   6    3    1    1   11    7 2006    2    8    0]\n",
            " [   2    4   10    9    6    2    1 2144    6    5]\n",
            " [   3   10    3   14    5    1    5    0 1998    3]\n",
            " [   5    0    0   20   31    3    2   10   16 2039]]\n",
            "\n",
            "\n",
            "*** Classification Report for NN3 ***\n",
            "\n",
            "              precision    recall  f1-score   support\n",
            "\n",
            "           0       0.99      0.99      0.99      2077\n",
            "           1       0.99      0.99      0.99      2385\n",
            "           2       0.98      0.98      0.98      2115\n",
            "           3       0.96      0.99      0.97      2117\n",
            "           4       0.97      0.99      0.98      2004\n",
            "           5       0.99      0.96      0.97      1900\n",
            "           6       0.98      0.98      0.98      2045\n",
            "           7       0.98      0.98      0.98      2189\n",
            "           8       0.96      0.98      0.97      2042\n",
            "           9       0.99      0.96      0.97      2126\n",
            "\n",
            "    accuracy                           0.98     21000\n",
            "   macro avg       0.98      0.98      0.98     21000\n",
            "weighted avg       0.98      0.98      0.98     21000\n",
            "\n"
          ]
        }
      ]
    }
  ]
}